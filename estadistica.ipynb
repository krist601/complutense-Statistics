{
 "cells": [
  {
   "cell_type": "code",
   "execution_count": 2,
   "id": "dea4430e-7112-4e20-91ab-cb7e941fe162",
   "metadata": {},
   "outputs": [
    {
     "name": "stdout",
     "output_type": "stream",
     "text": [
      "Medidas de craneos epoca 1 =  [135 137 134 135 136 134 135 134 136 135 134 134 135 135 134 134 135 134\n",
      " 135 134 134 132 134 135 135 132 134 133 135 133]\n",
      "Medidas de craneos epoca 2 =  [134 134 133 135 131 133 133 134 134 134 132 132 133 133 132 132 133 131\n",
      " 131 132 132 133 133 133 133 134 134 134 133 132]\n"
     ]
    }
   ],
   "source": [
    "import pandas as pd\n",
    "import numpy as np\n",
    "import geopandas as gpd\n",
    "import matplotlib.pyplot as plt\n",
    "import seaborn as sns\n",
    "import warnings\n",
    "from scipy.stats import describe, skew, kurtosis, kstest, norm\n",
    "from scipy import stats\n",
    "\n",
    "sns.set_style('darkgrid')\n",
    "warnings.filterwarnings('ignore')\n",
    "\n",
    "\n",
    "data_location = \"/Users/SoapyGenie/Documents/Datosejercicoevaluacionalturaspython.xlsx\"\n",
    "\n",
    "xl_file = pd.ExcelFile(data_location)\n",
    "#dfs = {sheet_name: xl_file.parse(sheet_name) for sheet_name in xl_file.sheet_names}\n",
    "    \n",
    "fs = pd.read_excel(data_location, sheet_name=\"Hoja1\")\n",
    "\n",
    "#print(fs)\n",
    "# Assuming that the column names in your Excel file are 'predinástico' and 'altura_craneos_mm'\n",
    "# You can adjust the column names as needed.\n",
    "\n",
    "data_matrix = fs[['Época histórica', 'Altura del cráneo']].to_numpy()\n",
    "data_epoca_1 = fs[fs['Época histórica'] == 1]['Altura del cráneo'].to_numpy()\n",
    "data_epoca_2 = fs[fs['Época histórica'] == 2]['Altura del cráneo'].to_numpy()\n",
    "pandas_data_epoca_1 = pd.Series(data_epoca_1)\n",
    "pandas_data_epoca_2 = pd.Series(data_epoca_2)\n",
    "\n",
    "print(\"Medidas de craneos epoca 1 = \", data_epoca_1)\n",
    "print(\"Medidas de craneos epoca 2 = \", data_epoca_2)\n"
   ]
  },
  {
   "cell_type": "code",
   "execution_count": 3,
   "id": "ada4efa8-3e94-4c63-ad73-4f04e108b895",
   "metadata": {
    "scrolled": true
   },
   "outputs": [
    {
     "name": "stdout",
     "output_type": "stream",
     "text": [
      "\n",
      "Cálculos de cráneos del predinástico temprano:\n",
      "\n",
      "Medidas de centralización y dispersión:\n",
      "Cantidad de muestras: 30\n",
      "Media:                134.4\n",
      "Mediana:              134.0\n",
      "Moda:                 134\n",
      "Rango:                5\n",
      "Varianza:             1.1448275862068964\n",
      "Desviación estándar:  1.069966161243848\n",
      "Pearson:              0.7961057747350059\n",
      "\n",
      "Asimetría:            -0.1737311042975376\n",
      "Curtosis:             1.0183245892347403\n",
      "\n",
      "Kolmogorov-Smirnov:   0.22092700693518066\n",
      "P value:              0.0911953408223295\n",
      "\n",
      "La submuestra de Época 1 sigue una distribución normal.\n"
     ]
    }
   ],
   "source": [
    "#Calculos de cráneos del predinástico temprano\n",
    "cantidad_muestra_epoca_1 = data_epoca_1.size\n",
    "media_epoca_1 = np.mean(data_epoca_1)\n",
    "moda_epoca_1 = np.argmax(np.bincount(data_epoca_1))\n",
    "mediana_epoca_1 = np.median(data_epoca_1)\n",
    "varianza_epoca_1 = np.var(data_epoca_1, ddof=1)#el ddof es para decir si es muestra (1) o poblacional (0)\n",
    "desv_esta_epoca_1 = np.std(data_epoca_1, ddof=1)\n",
    "rango_epoca_1 = np.ptp(data_epoca_1)\n",
    "# Calcular el coeficiente de variación de Pearson\n",
    "pearson_epoca_1 = (desv_esta_epoca_1 / media_epoca_1) * 100\n",
    "\n",
    "# Asimetría y curtosis\n",
    "skewness_epoca_1 = pandas_data_epoca_1.skew()\n",
    "kurt_epoca_1 = pandas_data_epoca_1.kurtosis()\n",
    "\n",
    "print(\"\\nCálculos de cráneos del predinástico temprano:\\n\")\n",
    "print(\"Medidas de centralización y dispersión:\")\n",
    "print(\"Cantidad de muestras:\", cantidad_muestra_epoca_1)\n",
    "print(\"Media:               \", media_epoca_1)\n",
    "print(\"Mediana:             \", mediana_epoca_1)\n",
    "print(\"Moda:                \", moda_epoca_1)\n",
    "print(\"Rango:               \", rango_epoca_1)\n",
    "print(\"Varianza:            \", varianza_epoca_1)\n",
    "print(\"Desviación estándar: \", desv_esta_epoca_1)\n",
    "print(\"Pearson:             \", pearson_epoca_1)\n",
    "\n",
    "print(\"\\nAsimetría:           \", skewness_epoca_1)\n",
    "print(\"Curtosis:            \", kurt_epoca_1)\n",
    "\n",
    "alpha = 0.05\n",
    "dis_nom_epoca_1 = norm(media_epoca_1, desv_esta_epoca_1)\n",
    "ks_statistic_1, p_value_1 = kstest(data_epoca_1, dis_nom_epoca_1.cdf)\n",
    "\n",
    "print(\"\\nKolmogorov-Smirnov:  \", ks_statistic_1)\n",
    "print(\"P value:             \", p_value_1)\n",
    "\n",
    "if p_value_1 < alpha:\n",
    "    print(\"\\nLa submuestra de Época 1 no sigue una distribución normal.\")\n",
    "else:\n",
    "    print(\"\\nLa submuestra de Época 1 sigue una distribución normal.\")"
   ]
  },
  {
   "cell_type": "code",
   "execution_count": 9,
   "id": "342b5ce1-092e-44a0-9d27-761f521371fc",
   "metadata": {},
   "outputs": [
    {
     "name": "stdout",
     "output_type": "stream",
     "text": [
      "\n",
      "Cálculos de cráneos del predinástico tardio:\n",
      "\n",
      "Medidas de centralización y dispersión:\n",
      "Cantidad de muestras: 30\n",
      "Media:                132.9\n",
      "Mediana:              133.0\n",
      "Moda:                 133\n",
      "Rango:                4\n",
      "Varianza:             1.0586206896551722\n",
      "Desviación estándar:  1.0288929437289247\n",
      "Pearson:              0.7741858116846687\n",
      "\n",
      "Asimetría:            -0.19537866713306773\n",
      "Curtosis:             -0.5040834924441051\n",
      "\n",
      "Kolmogorov-Smirnov:   0.20537964324634056\n",
      "P value:              0.13789840451236535\n",
      "\n",
      "La submuestra de Época 1 sigue una distribución normal.\n"
     ]
    }
   ],
   "source": [
    "#Calculos de cráneos del predinástico tardio\n",
    "cantidad_muestra_epoca_2 = data_epoca_2.size\n",
    "media_epoca_2 = np.mean(data_epoca_2)\n",
    "moda_epoca_2 = np.argmax(np.bincount(data_epoca_2))\n",
    "mediana_epoca_2 = np.median(data_epoca_2)\n",
    "varianza_epoca_2 = np.var(data_epoca_2, ddof=1)#el ddof es para decir si es muestra (1) o poblacional (0)\n",
    "desv_esta_epoca_2 = np.std(data_epoca_2, ddof=1)\n",
    "rango_epoca_2 = np.ptp(data_epoca_2)\n",
    "# Calcular el coeficiente de variación de Pearson\n",
    "pearson_epoca_2 = (desv_esta_epoca_2 / media_epoca_2) * 100\n",
    "\n",
    "# Asimetría y curtosis\n",
    "skewness_epoca_2 = pandas_data_epoca_2.skew()\n",
    "kurt_epoca_2 = pandas_data_epoca_2.kurtosis()\n",
    "\n",
    "print(\"\\nCálculos de cráneos del predinástico tardio:\\n\")\n",
    "print(\"Medidas de centralización y dispersión:\")\n",
    "print(\"Cantidad de muestras:\", cantidad_muestra_epoca_2)\n",
    "print(\"Media:               \", media_epoca_2)\n",
    "print(\"Mediana:             \", mediana_epoca_2)\n",
    "print(\"Moda:                \", moda_epoca_2)\n",
    "print(\"Rango:               \", rango_epoca_2)\n",
    "print(\"Varianza:            \", varianza_epoca_2)\n",
    "print(\"Desviación estándar: \", desv_esta_epoca_2)\n",
    "print(\"Pearson:             \", pearson_epoca_2)\n",
    "\n",
    "print(\"\\nAsimetría:           \", skewness_epoca_2)\n",
    "print(\"Curtosis:            \", kurt_epoca_2)\n",
    "\n",
    "alpha = 0.05\n",
    "dis_nom_epoca_2 = norm(media_epoca_2, desv_esta_epoca_2)\n",
    "ks_statistic_2, p_value_2 = kstest(data_epoca_2, dis_nom_epoca_2.cdf)\n",
    "\n",
    "\n",
    "\n",
    "\n",
    "\n",
    "print(\"\\nKolmogorov-Smirnov:  \", ks_statistic_2)\n",
    "print(\"P value:             \", p_value_2)\n",
    "\n",
    "if p_value_2 < alpha:\n",
    "    print(\"\\nLa submuestra de Época 1 no sigue una distribución normal.\")\n",
    "else:\n",
    "    print(\"\\nLa submuestra de Época 1 sigue una distribución normal.\")"
   ]
  },
  {
   "cell_type": "code",
   "execution_count": 5,
   "id": "00b0db62-a6db-4b68-9232-d837694bf6ae",
   "metadata": {},
   "outputs": [
    {
     "data": {
      "text/plain": [
       "Text(0.5, 0, 'Periodo')"
      ]
     },
     "execution_count": 5,
     "metadata": {},
     "output_type": "execute_result"
    },
    {
     "data": {
      "image/png": "[encoded data removed]",
      "text/plain": [
       "<Figure size 640x480 with 1 Axes>"
      ]
     },
     "metadata": {},
     "output_type": "display_data"
    }
   ],
   "source": [
    "estadisticas = {\n",
    "    'Medida': [\"predinástico temprano\", \"predinástico tardío\"],\n",
    "    'Valor': [data_epoca_1, data_epoca_2]\n",
    "}\n",
    "\n",
    "df_estadisticas = pd.DataFrame(estadisticas)\n",
    "\n",
    "# Gráfico de caja y bigotes\n",
    "plt.boxplot(df_estadisticas['Valor'], vert=True)\n",
    "plt.title('Gráfico de Caja y Bigotes')\n",
    "plt.xticks([1, 2], [\"predinástico temprano\", \"predinástico tardío\"])\n",
    "plt.ylabel('Altura de cráneos (mm.)')\n",
    "plt.xlabel('Periodo')"
   ]
  },
  {
   "cell_type": "code",
   "execution_count": 6,
   "id": "4cd60536-6101-4bc2-b4a9-fe6a1eeaaee7",
   "metadata": {},
   "outputs": [
    {
     "name": "stdout",
     "output_type": "stream",
     "text": [
      "Intervalo de confianza 90:  (1.0556504911779496, 1.9443495088220502)\n",
      "Intervalo de confianza 95:  (0.9651389962502914, 2.0348610037497084)\n",
      "Intervalo de confianza 99:  (0.7791600019930647, 2.2208399980069355)\n"
     ]
    }
   ],
   "source": [
    "# Calcula la diferencia de las dos muestras\n",
    "diferencia = data_epoca_1 - data_epoca_2\n",
    "\n",
    "# Calcula el intervalo de confianza para la diferencia\n",
    "intervalo_confianza_90 = stats.t.interval(0.90, len(diferencia) - 1, loc=np.mean(diferencia), scale=stats.sem(diferencia))\n",
    "intervalo_confianza_95 = stats.t.interval(0.95, len(diferencia) - 1, loc=np.mean(diferencia), scale=stats.sem(diferencia))\n",
    "intervalo_confianza_99 = stats.t.interval(0.99, len(diferencia) - 1, loc=np.mean(diferencia), scale=stats.sem(diferencia))\n",
    "\n",
    "print(\"Intervalo de confianza 90: \", intervalo_confianza_90)\n",
    "print(\"Intervalo de confianza 95: \", intervalo_confianza_95)\n",
    "print(\"Intervalo de confianza 99: \", intervalo_confianza_99)"
   ]
  },
  {
   "cell_type": "code",
   "execution_count": 7,
   "id": "c4b571c2-3d9b-41a9-8bf6-0a2433210726",
   "metadata": {},
   "outputs": [
    {
     "name": "stdout",
     "output_type": "stream",
     "text": [
      "Las alturas de la cabeza son estadísticamente diferentes en ambas épocas.\n",
      "En la época 1, las cabezas eran más altas que en la época 2.\n"
     ]
    }
   ],
   "source": [
    "# Interpretación\n",
    "if 0 not in intervalo_confianza_90 and 0 not in intervalo_confianza_95 and 0 not in intervalo_confianza_99:\n",
    "    print(\"Las alturas de la cabeza son estadísticamente diferentes en ambas épocas.\")\n",
    "    if media_epoca_1 > media_epoca_2:\n",
    "        print(\"En la época 1, las cabezas eran más altas que en la época 2.\")\n",
    "    else:\n",
    "        print(\"En la época 2, las cabezas eran más altas que en la época 1.\")\n",
    "else:\n",
    "    print(\"No hay evidencia estadística de que las alturas de la cabeza sean diferentes en ambas épocas.\")"
   ]
  },
  {
   "cell_type": "code",
   "execution_count": 8,
   "id": "9587f3a7-1c0b-498a-aa6d-cdc13859eacb",
   "metadata": {},
   "outputs": [
    {
     "name": "stdout",
     "output_type": "stream",
     "text": [
      "t estadistica:  5.53478118961368\n",
      "p valor:  7.857638259879935e-07\n",
      "Se rechaza la hipótesis nula: las medias son estadísticamente diferentes.\n"
     ]
    }
   ],
   "source": [
    "# Realizar la prueba t de dos muestras\n",
    "t_statistic, p_value = stats.ttest_ind(data_epoca_1, data_epoca_2)\n",
    "\n",
    "print(\"t estadistica: \", t_statistic)\n",
    "print(\"p valor: \", p_value)\n",
    "\n",
    "# Nivel de significancia (alfa)\n",
    "alfa = 0.05\n",
    "\n",
    "# Comparar el valor p con alfa\n",
    "if p_value < alfa:\n",
    "    print(\"Se rechaza la hipótesis nula: las medias son estadísticamente diferentes.\")\n",
    "else:\n",
    "    print(\"No se puede rechazar la hipótesis nula: las medias son estadísticamente iguales.\")"
   ]
  },
  {
   "cell_type": "code",
   "execution_count": null,
   "id": "3b1d5292-3899-4b0e-8b56-f40d096a551c",
   "metadata": {},
   "outputs": [],
   "source": []
  }
 ],
 "metadata": {
  "kernelspec": {
   "display_name": "Python 3 (ipykernel)",
   "language": "python",
   "name": "python3"
  },
  "language_info": {
   "codemirror_mode": {
    "name": "ipython",
    "version": 3
   },
   "file_extension": ".py",
   "mimetype": "text/x-python",
   "name": "python",
   "nbconvert_exporter": "python",
   "pygments_lexer": "ipython3",
   "version": "3.9.18"
  }
 },
 "nbformat": 4,
 "nbformat_minor": 5
}
